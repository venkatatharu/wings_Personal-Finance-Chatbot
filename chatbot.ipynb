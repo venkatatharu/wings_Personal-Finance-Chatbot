{
  "nbformat": 4,
  "nbformat_minor": 0,
  "metadata": {
    "colab": {
      "provenance": [],
      "gpuType": "T4",
      "include_colab_link": true
    },
    "kernelspec": {
      "name": "python3",
      "display_name": "Python 3"
    },
    "language_info": {
      "name": "python"
    },
    "accelerator": "GPU"
  },
  "cells": [
    {
      "cell_type": "markdown",
      "metadata": {
        "id": "view-in-github",
        "colab_type": "text"
      },
      "source": [
        "<a href=\"https://colab.research.google.com/github/venkatatharu/wings_Personal-Finance-Chatbot/blob/main/chatbot.ipynb\" target=\"_parent\"><img src=\"https://colab.research.google.com/assets/colab-badge.svg\" alt=\"Open In Colab\"/></a>"
      ]
    },
    {
      "cell_type": "code",
      "execution_count": 1,
      "metadata": {
        "colab": {
          "base_uri": "https://localhost:8080/"
        },
        "id": "KzKfowhTRor1",
        "outputId": "c567d8d7-455b-4e9d-c618-7fa9ef9700ad"
      },
      "outputs": [
        {
          "output_type": "stream",
          "name": "stdout",
          "text": [
            "Keyboard interruption in main thread... closing server.\n",
            "Killing tunnel 127.0.0.1:7860 <> https://83cc1ef79118e8007f.gradio.live\n"
          ]
        },
        {
          "output_type": "execute_result",
          "data": {
            "text/plain": []
          },
          "metadata": {},
          "execution_count": 1
        }
      ],
      "source": [
        "!pip install transformers torch gradio accelerate bitsandbytes\n",
        "\n",
        "import torch\n",
        "from transformers import AutoModelForCausalLM, AutoTokenizer, BitsAndBytesConfig\n",
        "import gradio as gr\n",
        "\n",
        "# Configure model loading\n",
        "model_name = \"ibm-granite/granite-3.2-2b-instruct\"\n",
        "\n",
        "# Quantization config for memory efficiency\n",
        "bnb_config = BitsAndBytesConfig(\n",
        "    load_in_8bit=True,\n",
        "    bnb_8bit_compute_dtype=torch.float16\n",
        ")\n",
        "\n",
        "print(\"Loading tokenizer...\")\n",
        "tokenizer = AutoTokenizer.from_pretrained(model_name)\n",
        "if tokenizer.pad_token is None:\n",
        "    tokenizer.pad_token = tokenizer.eos_token\n",
        "\n",
        "print(\"Loading model...\")\n",
        "model = AutoModelForCausalLM.from_pretrained(\n",
        "    model_name,\n",
        "    quantization_config=bnb_config,\n",
        "    device_map=\"auto\",\n",
        "    torch_dtype=torch.float16\n",
        ")\n",
        "\n",
        "print(\"Model loaded successfully!\")\n",
        "\n",
        "def chat_response(message, history):\n",
        "    # System prompt\n",
        "    system = \"You are ClauseWise, a personal finance advisor. Give concise advice on savings, taxes, and investments.\"\n",
        "\n",
        "    # Build conversation\n",
        "    prompt = f\"<|system|>\\n{system}\\n<|user|>\\n{message}\\n<|assistant|>\\n\"\n",
        "\n",
        "    # Tokenize\n",
        "    inputs = tokenizer(prompt, return_tensors=\"pt\", padding=True, truncation=True, max_length=512)\n",
        "    inputs = {k: v.to(model.device) for k, v in inputs.items()}\n",
        "\n",
        "    # Generate\n",
        "    with torch.no_grad():\n",
        "        outputs = model.generate(\n",
        "            **inputs,\n",
        "            max_new_tokens=200,\n",
        "            temperature=0.7,\n",
        "            do_sample=True,\n",
        "            pad_token_id=tokenizer.pad_token_id,\n",
        "            eos_token_id=tokenizer.eos_token_id\n",
        "        )\n",
        "\n",
        "    # Decode response\n",
        "    full_response = tokenizer.decode(outputs[0], skip_special_tokens=True)\n",
        "\n",
        "    # Extract assistant response\n",
        "    response = full_response.split(\"<|assistant|>\")[-1].strip()\n",
        "\n",
        "    return response\n",
        "\n",
        "# Create interface\n",
        "demo = gr.ChatInterface(\n",
        "    fn=chat_response,\n",
        "    title=\"🏦 ClauseWise - Personal Finance Chatbot\",\n",
        "    description=\"Get advice on savings, taxes, and investments\",\n",
        "    examples=[\n",
        "        \"How much emergency fund do I need?\",\n",
        "        \"Best way to start investing $1000?\",\n",
        "        \"How to reduce tax burden?\",\n",
        "        \"Pay debt first or invest?\"\n",
        "    ],\n",
        ")\n",
        "\n",
        "# Launch\n",
        "demo.launch(debug=True, share=True)"
      ]
    }
  ]
}